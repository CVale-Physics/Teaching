{
 "cells": [
  {
   "cell_type": "markdown",
   "id": "f818f904",
   "metadata": {},
   "source": [
    "# Finding Areas\n",
    "\n",
    "Now that we have gained an intuition for waves it would be useful to gain some physical insights from them. Common operations to find relations in physics come from calculus -- let us now explore integral calculus of various functions. We will compare analytic and numerical solutions to see if numericism is worthwhile (hint: this is being presented to you for a reason!).\n",
    "\n",
    "We import the python libraries we need (as well as directly importing some functions directly from the library so that we needn't write, e.g., `np.sin(x)` and can instead write immediately `sin(x)`)."
   ]
  },
  {
   "cell_type": "code",
   "execution_count": 1,
   "id": "8a9fbdc3",
   "metadata": {},
   "outputs": [],
   "source": [
    "from numpy import exp, sin, cos, pi\n",
    "from scipy.integrate import quad\n",
    "import matplotlib.pyplot as plt"
   ]
  },
  {
   "cell_type": "markdown",
   "id": "123bfaec",
   "metadata": {},
   "source": [
    "#### Questions -- Areas\n",
    "\n",
    "Consider the integrals $I_{\\Lambda,k}=\\int_0^{2\\pi}e^{-\\Lambda x}\\sin{kx}\\,dx$ and $I=\\int_0^{2\\pi}e^{-x}\\sin{x}\\,dx$. \n",
    "1. Using integration by parts on $I_{\\Lambda,k}$, find the constraints on $\\Lambda$ and $k$.*\n",
    "2. Hence solve $I$ by inspection, or otherwise solve by parts. Comment on whether this is or is not a special case of $I_{\\Lambda,k}$.\n",
    "3. Solve $I$ numerically.\\\n",
    "It is recommended that you use the QUADPACK routine, `scipy.integrate.quad(lambda x: f(x), xmin, xmax)`, for this task. \n",
    "4. Find the error in the numerical solution.\\\n",
    "If your error doesn't match that calculated by the numerical integrater consider why this is the case.\n",
    "\n",
    "*This question can be skipped if it is too difficult. If skipped, ignore sentence two of question two.\n",
    "\n",
    "#### Solutions\n",
    "\n",
    "1. Evaltuating $I_{\\Lambda,k}$ gives $$I_{\\Lambda, k}=\\frac{k-e^{-2\\pi\\Lambda}(\\Lambda\\sin{2\\pi k}+k\\cos{2\\pi k})}{\\Lambda^2+k^2}.$$ The constraints are given by $\\Lambda\\neq0,\\,k\\neq0,$ and $\\Lambda^2+k^2\\neq0$.\n",
    "2. Evaluating $I$ gives $$I=\\frac{1-e^{-2\\pi}}{2}.$$ By inspection of the integral (before or after solving), we can see that $I=I_{1,1}$. Indeed, making such a substitution rather than integrating directly is a prefereable method in this instance -- \"by inspection\" implies you can solve something without going through multiple steps.\n",
    "3. "
   ]
  },
  {
   "cell_type": "code",
   "execution_count": 2,
   "id": "b2a499f6",
   "metadata": {},
   "outputs": [
    {
     "name": "stdout",
     "output_type": "stream",
     "text": [
      "The numerical solution to this integral is 0.49906627863414593.\n"
     ]
    }
   ],
   "source": [
    "# scipy's quadrature method gives two outputs, the solution and the error, we assign these to different variables as we are only\n",
    "#interested in the solution.\n",
    "numerical, err = quad(lambda x: exp(-x) * sin(x), 0, 2*pi)\n",
    "print(f\"The numerical solution to this integral is {numerical}.\")"
   ]
  },
  {
   "cell_type": "markdown",
   "id": "3ab20168",
   "metadata": {},
   "source": [
    "4. I have decided, somewhat arbitrarily, that I am happy with a numerical result if the error is less than 1 ppm (reasonable answers accepted -- higher the error you allow, the better the necessary justification)."
   ]
  },
  {
   "cell_type": "code",
   "execution_count": 3,
   "id": "68ccf0b3",
   "metadata": {},
   "outputs": [
    {
     "name": "stdout",
     "output_type": "stream",
     "text": [
      "The magnitude of the error is greater than or equal to one part per million (-1.1123001815146037e-16).\n"
     ]
    }
   ],
   "source": [
    "# we need to input the analytical solution to be able to calculate the error\n",
    "analytical = (1-exp(-2*pi))/2\n",
    "\n",
    "# the error is then calculated in the standard way; the absolute value of this could be useful as we are more interested in the\n",
    "#magnitude of the error here rather than whether it is an over-/underestimate\n",
    "er = (numerical - analytical)/numerical\n",
    "abser = abs(er)\n",
    "\n",
    "# set up a basic if statement to decide whether the error meets our requirements\n",
    "if abser < 10^(-6):\n",
    "    print(f\"The (absolute value of the) error is less than one part per million ({er}).\")\n",
    "else:\n",
    "    print(f\"The magnitude of the error is greater than or equal to one part per million ({er}).\")"
   ]
  },
  {
   "cell_type": "code",
   "execution_count": 4,
   "id": "626790ab",
   "metadata": {},
   "outputs": [
    {
     "data": {
      "text/plain": [
       "1.0184653010705016"
      ]
     },
     "execution_count": 4,
     "metadata": {},
     "output_type": "execute_result"
    }
   ],
   "source": [
    "ercomp = (err-er)/err\n",
    "ercomp"
   ]
  }
 ],
 "metadata": {
  "kernelspec": {
   "display_name": "Python 3 (ipykernel)",
   "language": "python",
   "name": "python3"
  },
  "language_info": {
   "codemirror_mode": {
    "name": "ipython",
    "version": 3
   },
   "file_extension": ".py",
   "mimetype": "text/x-python",
   "name": "python",
   "nbconvert_exporter": "python",
   "pygments_lexer": "ipython3",
   "version": "3.8.12"
  }
 },
 "nbformat": 4,
 "nbformat_minor": 5
}
