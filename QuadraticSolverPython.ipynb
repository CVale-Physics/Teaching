{
 "cells": [
  {
   "cell_type": "markdown",
   "id": "1cc5aa3c",
   "metadata": {},
   "source": [
    "## Quadratic Solver."
   ]
  },
  {
   "cell_type": "markdown",
   "id": "37669668",
   "metadata": {},
   "source": [
    "We have equation $ax^2+bx+c=0$ with solution $x=\\frac{-b\\pm\\sqrt{b^2-4ac}}{2a}$."
   ]
  },
  {
   "cell_type": "markdown",
   "id": "60c5b113",
   "metadata": {},
   "source": [
    "Pick some equation, for example $x^2+2x+1=0$. Here we expect both solutions to be -1.0. To run the code, click in the textbox, hold control, and press enter, then instructions will appear onscreen. What do you notice if you change this to $x^2+2x+2$?"
   ]
  },
  {
   "cell_type": "code",
   "execution_count": 1,
   "id": "f7de9149",
   "metadata": {},
   "outputs": [],
   "source": [
    "import matplotlib.pyplot as plt\n",
    "import numpy as np"
   ]
  },
  {
   "cell_type": "code",
   "execution_count": null,
   "id": "23b70a37",
   "metadata": {},
   "outputs": [],
   "source": [
    "# the input command allows you to input a \"string,\" because we want a number we convert to a complex number using the complex \n",
    "#command; in python, the complex unit is 'j'.Note that if we only wanted to allow real coefficients we would use the float \n",
    "#command instead.\n",
    "a = complex(input(\"What is your a value: \"))\n",
    "b = complex(input(\"What is your b value: \"))\n",
    "c = complex(input(\"What is your c value: \"))\n",
    "\n",
    "# here we give the two roots\n",
    "# note: (stuff)**0.5 is the same as the squareroot\n",
    "xplus = (-b+(b**2-4*a*c)**0.5)/(2*a)\n",
    "xminus = (-b-(b**2-4*a*c)**0.5)/(2*a)\n",
    "\n",
    "print(f\"The '+' solution is {xplus}, and the '-' solution is {xminus}.\\n Now try this for other quadratic equations.\")\n",
    "\n",
    "# we now want to plot this on some range\n",
    "xmin = complex(input(\"What is your lowest x value: \"))\n",
    "xmax = complex(input(\"What is your highest x value: \"))\n",
    "x = np.linspace(xmin,xmax)\n",
    "\n",
    "# and define y = f(x)\n",
    "y = a*x**2+b*x+c\n",
    "\n",
    "# and then plot, here we can verify the roots of the equation\n",
    "plt.plot(np.real(x), np.real(y))"
   ]
  },
  {
   "cell_type": "code",
   "execution_count": null,
   "id": "23985d18",
   "metadata": {},
   "outputs": [],
   "source": [
    "def QuadSolve(a,b,c):\n",
    "    xplus = (-b+(b**2-4*a*c)**0.5)/(2*a)\n",
    "    xminus = (-b-(b**2-4*a*c)**0.5)/(2*a)\n",
    "    return f\"The '+' solution is {xplus}, and the '-' solution is {xminus}\"\n",
    "\n",
    "QuadSolve(1j,1j,1j)"
   ]
  },
  {
   "cell_type": "code",
   "execution_count": null,
   "id": "5bf4575a",
   "metadata": {},
   "outputs": [],
   "source": [
    "a = float(input(\"What is your a value: \"))\n",
    "b = float(input(\"What is your b value: \"))\n",
    "c = float(input(\"What is your c value: \"))\n",
    "d = float(input(\"What is your lowest x value: \"))\n",
    "e = float(input(\"What is your highest x value: \"))\n",
    "z=1\n",
    "w=1\n",
    "x = np.linspace(d,e)\n",
    "y = w*np.exp(z*x**3+a*x**2+b*x+c)\n",
    "\n",
    "plt.plot(x, y)"
   ]
  }
 ],
 "metadata": {
  "kernelspec": {
   "display_name": "Python 3 (ipykernel)",
   "language": "python",
   "name": "python3"
  },
  "language_info": {
   "codemirror_mode": {
    "name": "ipython",
    "version": 3
   },
   "file_extension": ".py",
   "mimetype": "text/x-python",
   "name": "python",
   "nbconvert_exporter": "python",
   "pygments_lexer": "ipython3",
   "version": "3.8.12"
  }
 },
 "nbformat": 4,
 "nbformat_minor": 5
}
