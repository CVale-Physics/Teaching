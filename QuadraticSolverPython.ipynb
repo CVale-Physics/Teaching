{
 "cells": [
  {
   "cell_type": "markdown",
   "metadata": {},
   "source": [
    "Quadratic Solver."
   ]
  },
  {
   "cell_type": "markdown",
   "metadata": {},
   "source": [
    "We have equation $ax^2+bx+c=0$ with solution $x=\\frac{-b\\pm\\sqrt{b^2-4ac}}{2a}$."
   ]
  },
  {
   "cell_type": "markdown",
   "metadata": {},
   "source": [
    "Pick some equation, for example $x^2+2x+1=0$. Here we expect both solutions to be -1.0. To run the code, click in the textbox, hold control, and press enter, then instructions will appear onscreen. What do you notice if you change this to $x^2+2x+2$?"
   ]
  },
  {
   "cell_type": "code",
   "execution_count": 1,
   "metadata": {},
   "outputs": [
    {
     "name": "stdout",
     "output_type": "stream",
     "text": [
      "What is your a value: 1j\n",
      "What is your b value: 1j\n",
      "What is your c value: 1j\n",
      "The '+' solution is (-0.5-0.8660254037844386j), and the '-' solution is (-0.5+0.8660254037844386j).\n",
      " Now try this for other quadratic equations.\n"
     ]
    }
   ],
   "source": [
    "# the input command allows you to input a \"string,\" because we want a number we convert to a complex number using the complex \n",
    "#command; in python, the complex unit is 'j'.Note that if we only wanted to allow real coefficients we would use the float \n",
    "#command instead.\n",
    "a = complex(input(\"What is your a value: \"))\n",
    "b = complex(input(\"What is your b value: \"))\n",
    "c = complex(input(\"What is your c value: \"))\n",
    "\n",
    "# here we give the two roots\n",
    "# note: (stuff)**0.5 is the same as the squareroot\n",
    "xplus = (-b+(b**2-4*a*c)**0.5)/(2*a)\n",
    "xminus = (-b-(b**2-4*a*c)**0.5)/(2*a)\n",
    "\n",
    "print(f\"The '+' solution is {xplus}, and the '-' solution is {xminus}.\\n Now try this for other quadratic equations.\")"
   ]
  },
  {
   "cell_type": "markdown",
   "metadata": {},
   "source": [
    "Can you write a python function that solves quadratic equations?"
   ]
  },
  {
   "cell_type": "code",
   "execution_count": 2,
   "metadata": {},
   "outputs": [
    {
     "data": {
      "text/plain": [
       "\"The '+' solution is (-0.5-0.8660254037844386j), and the '-' solution is (-0.5+0.8660254037844386j)\""
      ]
     },
     "execution_count": 2,
     "metadata": {},
     "output_type": "execute_result"
    }
   ],
   "source": [
    "def QuadSolve(a,b,c):\n",
    "    xplus = (-b+(b**2-4*a*c)**0.5)/(2*a)\n",
    "    xminus = (-b-(b**2-4*a*c)**0.5)/(2*a)\n",
    "    return f\"The '+' solution is {xplus}, and the '-' solution is {xminus}\"\n",
    "\n",
    "QuadSolve(1j,1j,1j)"
   ]
  }
 ],
 "metadata": {
  "kernelspec": {
   "display_name": "Python 3",
   "language": "python",
   "name": "python3"
  },
  "language_info": {
   "codemirror_mode": {
    "name": "ipython",
    "version": 3
   },
   "file_extension": ".py",
   "mimetype": "text/x-python",
   "name": "python",
   "nbconvert_exporter": "python",
   "pygments_lexer": "ipython3",
   "version": "3.8.5"
  }
 },
 "nbformat": 4,
 "nbformat_minor": 5
}
