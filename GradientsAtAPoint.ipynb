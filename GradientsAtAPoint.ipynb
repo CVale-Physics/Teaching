{
 "cells": [
  {
   "cell_type": "markdown",
   "id": "e3208c20",
   "metadata": {},
   "source": [
    "# Gradients  At A Point\n",
    "\n",
    "Now that we have gained an intuition for waves it would be useful to gain some physical insights from them. Common operations to find relations in physics come from calculus -- let us explore derivatives (at a point) of various functions.\n",
    "\n",
    "We import the python libraries we need (as well as directly importing some functions directly from the library so that we needn't write, e.g., `np.sin(x)` and can instead write immediately `sin(x)`)."
   ]
  },
  {
   "cell_type": "code",
   "execution_count": 1,
   "id": "4c188252",
   "metadata": {},
   "outputs": [],
   "source": [
    "from numpy import exp, sin, cos, pi\n",
    "from scipy.misc import derivative\n",
    "import matplotlib.pyplot as plt"
   ]
  },
  {
   "cell_type": "markdown",
   "id": "289e8b9f",
   "metadata": {},
   "source": [
    "We use the derivative function from `scipy.misc`. We first have to define f(x) -- not only is this good practice in general, but the derivative function also doesn't interpret `+` correctly in functions, for example. Following this, the function is quite simple to use `derivative(f(x), xval, dx=your-dx)`. To a point, a smaller `dx`$\\Rightarrow$a more accurate value.\n",
    "\n",
    "#### Questions -- Gradients\n",
    "\n",
    "For the following, find the $\\frac{dy}{dx}$ by hand and substitute the points into the result to check your numerical results (and as an opportunity to practice differentiation!).\n",
    "\n",
    "1. Find the gradient of $y=x^2+1$ at $x=5$\n",
    "2. Find the gradient of $y=\\sin{5\\pi x}$ at $x=\\frac{1}{20}$\n",
    "3. Find the gradient of $y=(e^2x+e^x+1)\\cos{x}$ at $x=\\pi$\n",
    "\n",
    "#### Solutions"
   ]
  },
  {
   "cell_type": "code",
   "execution_count": 2,
   "id": "f8b9aa2c",
   "metadata": {},
   "outputs": [
    {
     "data": {
      "text/plain": [
       "10.00000000139778"
      ]
     },
     "execution_count": 2,
     "metadata": {},
     "output_type": "execute_result"
    }
   ],
   "source": [
    "def f(x):\n",
    "    return x**2 + 1\n",
    "\n",
    "derivative(f, 5, dx=1e-6)"
   ]
  },
  {
   "cell_type": "code",
   "execution_count": 3,
   "id": "4af46e66",
   "metadata": {},
   "outputs": [
    {
     "data": {
      "text/plain": [
       "11.107207344929204"
      ]
     },
     "execution_count": 3,
     "metadata": {},
     "output_type": "execute_result"
    }
   ],
   "source": [
    "def f(x):\n",
    "    return sin(5*pi*x)\n",
    "\n",
    "derivative(f, 0.05, dx=1e-6)"
   ]
  },
  {
   "cell_type": "code",
   "execution_count": 4,
   "id": "afec355f",
   "metadata": {},
   "outputs": [
    {
     "data": {
      "text/plain": [
       "-1094.124003827801"
      ]
     },
     "execution_count": 4,
     "metadata": {},
     "output_type": "execute_result"
    }
   ],
   "source": [
    "def f(x):\n",
    "    return (exp(2*x)+exp(x)+1)*cos(x)\n",
    "\n",
    "derivative(f, pi, dx=1e-6)"
   ]
  }
 ],
 "metadata": {
  "kernelspec": {
   "display_name": "Python 3 (ipykernel)",
   "language": "python",
   "name": "python3"
  },
  "language_info": {
   "codemirror_mode": {
    "name": "ipython",
    "version": 3
   },
   "file_extension": ".py",
   "mimetype": "text/x-python",
   "name": "python",
   "nbconvert_exporter": "python",
   "pygments_lexer": "ipython3",
   "version": "3.8.12"
  }
 },
 "nbformat": 4,
 "nbformat_minor": 5
}
