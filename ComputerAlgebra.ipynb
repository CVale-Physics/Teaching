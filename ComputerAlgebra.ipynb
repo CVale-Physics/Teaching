{
 "cells": [
  {
   "cell_type": "markdown",
   "id": "bf358397",
   "metadata": {},
   "source": [
    "# Using Python For Computer Algebra\n",
    "\n",
    "Python can also be used for computer algebra. Here we will use the `SymPy` library -- when used on its own it can be very powerful, however when performing numerics it can occassionally give answers in strange forms, so use it wisely!"
   ]
  },
  {
   "cell_type": "code",
   "execution_count": 1,
   "id": "6eba8f3b",
   "metadata": {},
   "outputs": [],
   "source": [
    "from numpy import exp, sin, cos, pi\n",
    "from sympy import *"
   ]
  },
  {
   "cell_type": "markdown",
   "id": "f96bacf0",
   "metadata": {},
   "source": [
    "#### Questions -- Symbolic Calculation on Python\n",
    "\n",
    "A powerful (and computationally expensive) technique is symbolic calculation. It is important that you can do these types of calculations by hand -- symbolic calculators should be used for purposes of verifcation.\n",
    "\n",
    "1. Differentiate, by hand and with python, the following:\\\n",
    "i. $$y=ax^2+bx+c,$$ with respect to (wrt) $x$.\\\n",
    "ii. $$y=\\sin{x}+\\frac{\\sin^2{x}}{2}+\\frac{\\sin^3{x}}{3!},$$ wrt $x$.\\\n",
    "iii. $$y=\\sin{x}+\\frac{\\sin^2{x}}{2}+\\frac{\\sin^3{x}}{3!},$$ wrt $\\sin{x}$.\n",
    "\n",
    "2. Integrate, by hand and with python, the following:\\\n",
    "i. $$y=ax^2+bx+c,$$ with respect t (wrt) $x$.\\\n",
    "ii. $$y=\\sin{x}+\\frac{\\sin^2{x}}{2}+\\frac{\\sin^3{x}}{3!},$$ wrt $x$.\\\n",
    "iii. $$y=\\sin{x}+\\frac{\\sin^2{x}}{2}+\\frac{\\sin^3{x}}{3!},$$ wrt $\\sin{x}$.\n",
    "\n",
    "3. Solve the following for $f(x)$ by hand and with python*: $$\\frac{d^2f}{dx^2}+\\frac{df}{dx}+f=e^x\\sin{x}.$$\n",
    "\n",
    "*Try solving with python first, as finding the particular solution can be a little fiddly.\n",
    "\n",
    "#### Solutions\n",
    "\n",
    "1. i."
   ]
  },
  {
   "cell_type": "code",
   "execution_count": 2,
   "id": "739e21f1",
   "metadata": {},
   "outputs": [
    {
     "data": {
      "text/latex": [
       "$\\displaystyle 2 a x + b$"
      ],
      "text/plain": [
       "2*a*x + b"
      ]
     },
     "execution_count": 2,
     "metadata": {},
     "output_type": "execute_result"
    }
   ],
   "source": [
    "a, b, c, x = Symbol('a'), Symbol('b'), Symbol('c'), Symbol('x')\n",
    "y = a*x**2 + b*x + c\n",
    "\n",
    "yprime = y.diff(x)\n",
    "\n",
    "# check the different methods of printing to see how they are displayed\n",
    "yprime\n",
    "# print(f\"y={yprime}\")\n",
    "# print(\"y'=\",yprime)"
   ]
  },
  {
   "cell_type": "markdown",
   "id": "eec9ad88",
   "metadata": {},
   "source": [
    "1. ii."
   ]
  },
  {
   "cell_type": "code",
   "execution_count": 3,
   "id": "6d5f567a",
   "metadata": {
    "scrolled": true
   },
   "outputs": [
    {
     "data": {
      "text/latex": [
       "$\\displaystyle \\frac{\\sin^{2}{\\left(x \\right)} \\cos{\\left(x \\right)}}{2} + \\sin{\\left(x \\right)} \\cos{\\left(x \\right)} + \\cos{\\left(x \\right)}$"
      ],
      "text/plain": [
       "sin(x)**2*cos(x)/2 + sin(x)*cos(x) + cos(x)"
      ]
     },
     "execution_count": 3,
     "metadata": {},
     "output_type": "execute_result"
    }
   ],
   "source": [
    "y = sin(x) + (sin(x))**2/2 + (sin(x))**3/(2*3)\n",
    "yprime = y.diff(x)\n",
    "yprime"
   ]
  },
  {
   "cell_type": "markdown",
   "id": "79d34c06",
   "metadata": {},
   "source": [
    "1. iii. Note: this approach would **not** work if there were functions that weren't some power of $\\sin{x}$(!)."
   ]
  },
  {
   "cell_type": "code",
   "execution_count": 4,
   "id": "8c55a716",
   "metadata": {},
   "outputs": [
    {
     "data": {
      "text/latex": [
       "$\\displaystyle \\frac{(sinx)^{2}}{2} + (sinx) + 1$"
      ],
      "text/plain": [
       "(sinx)**2/2 + (sinx) + 1"
      ]
     },
     "execution_count": 4,
     "metadata": {},
     "output_type": "execute_result"
    }
   ],
   "source": [
    "sinx = Symbol('(sinx)')\n",
    "y = sinx + sinx**2/2 + sinx**3/(2*3)\n",
    "yprime = y.diff(sinx)\n",
    "yprime"
   ]
  },
  {
   "cell_type": "markdown",
   "id": "aa5fe127",
   "metadata": {},
   "source": [
    "2. i."
   ]
  },
  {
   "cell_type": "code",
   "execution_count": 5,
   "id": "d343d502",
   "metadata": {},
   "outputs": [
    {
     "data": {
      "text/latex": [
       "$\\displaystyle \\frac{a x^{3}}{3} + \\frac{b x^{2}}{2} + c x$"
      ],
      "text/plain": [
       "a*x**3/3 + b*x**2/2 + c*x"
      ]
     },
     "execution_count": 5,
     "metadata": {},
     "output_type": "execute_result"
    }
   ],
   "source": [
    "y = a*x**2 + b*x + c\n",
    "Y1 = y.integrate(x)\n",
    "Y1"
   ]
  },
  {
   "cell_type": "markdown",
   "id": "a0137576",
   "metadata": {},
   "source": [
    "This did not give us the constant of integration, let us try another method."
   ]
  },
  {
   "cell_type": "code",
   "execution_count": 6,
   "id": "c8bdd170",
   "metadata": {},
   "outputs": [
    {
     "data": {
      "text/latex": [
       "$\\displaystyle Y{\\left(x \\right)} = C_{1} + \\frac{a x^{3}}{3} + \\frac{b x^{2}}{2} + c x$"
      ],
      "text/plain": [
       "Eq(Y(x), C1 + a*x**3/3 + b*x**2/2 + c*x)"
      ]
     },
     "execution_count": 6,
     "metadata": {},
     "output_type": "execute_result"
    }
   ],
   "source": [
    "Y, f = symbols('Y f', cls=Function)\n",
    "y = Eq(Y(x).diff(x), a*x**2 + b*x + c)\n",
    "Y2 = dsolve(y, Y(x))\n",
    "Y2"
   ]
  },
  {
   "cell_type": "markdown",
   "id": "2fdba84d",
   "metadata": {},
   "source": [
    "2. ii."
   ]
  },
  {
   "cell_type": "code",
   "execution_count": 7,
   "id": "796eaa79",
   "metadata": {},
   "outputs": [
    {
     "data": {
      "text/latex": [
       "$\\displaystyle f{\\left(x \\right)} = C_{1} + \\frac{x}{4} - \\frac{\\sin{\\left(x \\right)} \\cos{\\left(x \\right)}}{4} + \\frac{\\cos^{3}{\\left(x \\right)}}{18} - \\frac{7 \\cos{\\left(x \\right)}}{6}$"
      ],
      "text/plain": [
       "Eq(f(x), C1 + x/4 - sin(x)*cos(x)/4 + cos(x)**3/18 - 7*cos(x)/6)"
      ]
     },
     "execution_count": 7,
     "metadata": {},
     "output_type": "execute_result"
    }
   ],
   "source": [
    "y = Eq(f(x).diff(x), sin(x) + (sin(x))**2/2 + (sin(x))**3/(2*3))\n",
    "Y = dsolve(y, f(x))\n",
    "Y"
   ]
  },
  {
   "cell_type": "markdown",
   "id": "9bb24021",
   "metadata": {},
   "source": [
    "2. iii. Note: this approach would **not** work if there were functions that weren't some power of $\\sin{x}$(!)."
   ]
  },
  {
   "cell_type": "code",
   "execution_count": 8,
   "id": "e9e11ddb",
   "metadata": {},
   "outputs": [
    {
     "data": {
      "text/latex": [
       "$\\displaystyle \\frac{d}{d (sinx)} f{\\left((sinx) \\right)} = \\frac{(sinx)^{3}}{6} + \\frac{(sinx)^{2}}{2} + (sinx)$"
      ],
      "text/plain": [
       "Eq(Derivative(f((sinx)), (sinx)), (sinx)**3/6 + (sinx)**2/2 + (sinx))"
      ]
     },
     "execution_count": 8,
     "metadata": {},
     "output_type": "execute_result"
    }
   ],
   "source": [
    "y = Eq(f(sinx).diff(sinx), (sinx) + (sinx)**2/2 + (sinx)**3/(2*3))\n",
    "y"
   ]
  },
  {
   "cell_type": "code",
   "execution_count": 9,
   "id": "60f4f84c",
   "metadata": {},
   "outputs": [
    {
     "data": {
      "text/latex": [
       "$\\displaystyle f{\\left((sinx) \\right)} = \\frac{(sinx)^{4}}{24} + \\frac{(sinx)^{3}}{6} + \\frac{(sinx)^{2}}{2} + C_{1}$"
      ],
      "text/plain": [
       "Eq(f((sinx)), (sinx)**4/24 + (sinx)**3/6 + (sinx)**2/2 + C1)"
      ]
     },
     "execution_count": 9,
     "metadata": {},
     "output_type": "execute_result"
    }
   ],
   "source": [
    "Y = dsolve(y, f(sinx))\n",
    "Y"
   ]
  },
  {
   "cell_type": "markdown",
   "id": "a7ee2844",
   "metadata": {},
   "source": [
    "3. "
   ]
  },
  {
   "cell_type": "code",
   "execution_count": 10,
   "id": "1878902c",
   "metadata": {},
   "outputs": [
    {
     "data": {
      "text/latex": [
       "$\\displaystyle f{\\left(x \\right)} + \\frac{d}{d x} f{\\left(x \\right)} + \\frac{d^{2}}{d x^{2}} f{\\left(x \\right)} = e^{x} \\sin{\\left(x \\right)}$"
      ],
      "text/plain": [
       "Eq(f(x) + Derivative(f(x), x) + Derivative(f(x), (x, 2)), exp(x)*sin(x))"
      ]
     },
     "execution_count": 10,
     "metadata": {},
     "output_type": "execute_result"
    }
   ],
   "source": [
    "y = Eq(f(x).diff(x,x)+f(x).diff(x)+f(x), sin(x)*exp(x))\n",
    "y"
   ]
  },
  {
   "cell_type": "code",
   "execution_count": 11,
   "id": "b3ec59d7",
   "metadata": {},
   "outputs": [
    {
     "data": {
      "text/latex": [
       "$\\displaystyle f{\\left(x \\right)} = \\left(C_{1} \\sin{\\left(\\frac{\\sqrt{3} x}{2} \\right)} + C_{2} \\cos{\\left(\\frac{\\sqrt{3} x}{2} \\right)}\\right) e^{- \\frac{x}{2}} + \\frac{\\left(2 \\sin{\\left(x \\right)} - 3 \\cos{\\left(x \\right)}\\right) e^{x}}{13}$"
      ],
      "text/plain": [
       "Eq(f(x), (C1*sin(sqrt(3)*x/2) + C2*cos(sqrt(3)*x/2))*exp(-x/2) + (2*sin(x) - 3*cos(x))*exp(x)/13)"
      ]
     },
     "execution_count": 11,
     "metadata": {},
     "output_type": "execute_result"
    }
   ],
   "source": [
    "Y = dsolve(y, f(x))\n",
    "Y"
   ]
  }
 ],
 "metadata": {
  "kernelspec": {
   "display_name": "Python 3 (ipykernel)",
   "language": "python",
   "name": "python3"
  },
  "language_info": {
   "codemirror_mode": {
    "name": "ipython",
    "version": 3
   },
   "file_extension": ".py",
   "mimetype": "text/x-python",
   "name": "python",
   "nbconvert_exporter": "python",
   "pygments_lexer": "ipython3",
   "version": "3.8.12"
  }
 },
 "nbformat": 4,
 "nbformat_minor": 5
}
